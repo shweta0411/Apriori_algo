{
 "cells": [
  {
   "cell_type": "code",
   "execution_count": 2,
   "id": "0330cf33",
   "metadata": {},
   "outputs": [],
   "source": [
    "from itertools import combinations\n",
    "from collections import defaultdict"
   ]
  },
  {
   "cell_type": "code",
   "execution_count": 3,
   "id": "55567a39",
   "metadata": {},
   "outputs": [],
   "source": [
    "# Transaction data\n",
    "transactions = [\n",
    "    [\"bread\", \"milk\", \"eggs\"],\n",
    "    [\"bread\", \"butter\"],\n",
    "    [\"bread\", \"milk\", \"cheese\"],\n",
    "    [\"bread\", \"eggs\", \"yogurt\"],\n",
    "    [\"milk\", \"eggs\", \"yogurt\"]\n",
    "]"
   ]
  },
  {
   "cell_type": "code",
   "execution_count": 4,
   "id": "447b260d",
   "metadata": {},
   "outputs": [],
   "source": [
    "# Minimum support threshold\n",
    "min_support = 0.4"
   ]
  },
  {
   "cell_type": "code",
   "execution_count": 5,
   "id": "4c7a000f",
   "metadata": {},
   "outputs": [],
   "source": [
    "# Step 1: Count occurrences of each item\n",
    "item_counts = defaultdict(int)\n",
    "for transaction in transactions:\n",
    "    for item in transaction:\n",
    "        item_counts[item] += 1"
   ]
  },
  {
   "cell_type": "code",
   "execution_count": 6,
   "id": "e156ab2f",
   "metadata": {},
   "outputs": [],
   "source": [
    "# Step 2: Calculate support for each item\n",
    "num_transactions = len(transactions)\n",
    "item_support = {item: count / num_transactions for item, count in item_counts.items()}"
   ]
  },
  {
   "cell_type": "code",
   "execution_count": 7,
   "id": "150345d4",
   "metadata": {},
   "outputs": [],
   "source": [
    "# Step 3: Remove items below support threshold\n",
    "frequent_items = {item for item, support in item_support.items() if support >= min_support}"
   ]
  },
  {
   "cell_type": "code",
   "execution_count": 8,
   "id": "b76ca798",
   "metadata": {},
   "outputs": [],
   "source": [
    "# Step 4: Generate candidate pairs\n",
    "candidate_pairs = list(combinations(frequent_items, 2))"
   ]
  },
  {
   "cell_type": "code",
   "execution_count": 9,
   "id": "5d0d0004",
   "metadata": {},
   "outputs": [],
   "source": [
    "# Step 5: Count occurrences of each pair\n",
    "pair_counts = defaultdict(int)\n",
    "for transaction in transactions:\n",
    "    for pair in candidate_pairs:\n",
    "        if all(item in transaction for item in pair):\n",
    "            pair_counts[pair] += 1"
   ]
  },
  {
   "cell_type": "code",
   "execution_count": 10,
   "id": "995b0de0",
   "metadata": {},
   "outputs": [],
   "source": [
    "# Step 6: Calculate support for each pair\n",
    "pair_support = {pair: count / num_transactions for pair, count in pair_counts.items()}"
   ]
  },
  {
   "cell_type": "code",
   "execution_count": 11,
   "id": "472b8d2e",
   "metadata": {},
   "outputs": [
    {
     "name": "stdout",
     "output_type": "stream",
     "text": [
      "Frequent itemsets:\n",
      "bread\n",
      "eggs\n",
      "milk\n",
      "yogurt\n",
      "('bread', 'milk')\n",
      "('eggs', 'yogurt')\n",
      "('bread', 'eggs')\n",
      "('eggs', 'milk')\n"
     ]
    }
   ],
   "source": [
    "# Step 7: Remove pairs below support threshold\n",
    "frequent_pairs = {pair for pair, support in pair_support.items() if support >= min_support}\n",
    "\n",
    "print(\"Frequent itemsets:\")\n",
    "for item in frequent_items:\n",
    "    print(item)\n",
    "for pair in frequent_pairs:\n",
    "    print(pair)\n"
   ]
  },
  {
   "cell_type": "code",
   "execution_count": null,
   "id": "b231ced8",
   "metadata": {},
   "outputs": [],
   "source": []
  }
 ],
 "metadata": {
  "kernelspec": {
   "display_name": "Python 3 (ipykernel)",
   "language": "python",
   "name": "python3"
  },
  "language_info": {
   "codemirror_mode": {
    "name": "ipython",
    "version": 3
   },
   "file_extension": ".py",
   "mimetype": "text/x-python",
   "name": "python",
   "nbconvert_exporter": "python",
   "pygments_lexer": "ipython3",
   "version": "3.11.3"
  }
 },
 "nbformat": 4,
 "nbformat_minor": 5
}
